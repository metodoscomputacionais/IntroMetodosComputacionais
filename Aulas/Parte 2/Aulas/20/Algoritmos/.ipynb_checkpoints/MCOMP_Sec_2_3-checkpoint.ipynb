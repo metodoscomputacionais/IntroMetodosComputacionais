{
 "cells": [
  {
   "cell_type": "markdown",
   "metadata": {
    "id": "MQlVBetnBi3m"
   },
   "source": [
    "# **1.0 IMPORTANTO AS BIBLIOTECAS**\n",
    "\n",
    "Se estiver utilizando o ambiente NBVIEWER não se esqueça de instalar as bibliotecas utilizadas. A linha de comando para instalação está apresentada logo abaixo. Salientamos que é necessário executar apenas uma única vez a instalação da biblioteca."
   ]
  },
  {
   "cell_type": "code",
   "execution_count": null,
   "metadata": {},
   "outputs": [],
   "source": [
    "# EXECUTAR ESTÁ CÉLULA UMA ÚNICA VEZ\n",
    "!pip install numpy\n",
    "!pip install matplotlib"
   ]
  },
  {
   "cell_type": "code",
   "execution_count": null,
   "metadata": {
    "executionInfo": {
     "elapsed": 1112,
     "status": "ok",
     "timestamp": 1619460332252,
     "user": {
      "displayName": "WANDERLEI MALAQUIAS PEREIRA JUNIOR",
      "photoUrl": "https://lh3.googleusercontent.com/a-/AOh14GglFn2KGqmzmMwwLVTugRzApV8LBiqF4115lvfpdg=s64",
      "userId": "03728573811029083355"
     },
     "user_tz": 180
    },
    "id": "4ukbQvYaBZ5D"
   },
   "outputs": [],
   "source": [
    "# IMPORTANDO BIBLIOTECAS\n",
    "import numpy as np\n",
    "import pandas as pd\n",
    "import matplotlib.pyplot as plt"
   ]
  },
  {
   "cell_type": "markdown",
   "metadata": {
    "id": "txbGBHDzDkb7"
   },
   "source": [
    "# **2.0 ALGORITMO BISSEÇÃO**"
   ]
  },
  {
   "cell_type": "markdown",
   "metadata": {
    "id": "_UX0PqyyRVvz"
   },
   "source": [
    "## 2.1 Função Objetivo"
   ]
  },
  {
   "cell_type": "code",
   "execution_count": null,
   "metadata": {
    "id": "FU7-vYeQRsRV"
   },
   "outputs": [],
   "source": [
    "# FUNÇÃO PARA DECLARAÇÃO DA EQUAÇÃO QUE DESEJA-SE ENCONTRAR A RAÍZ\n",
    "def FUNCTION(X):\n",
    "    F = 8 - 4.5 * (X - np.sin(X))\n",
    "    return F "
   ]
  },
  {
   "cell_type": "markdown",
   "metadata": {
    "id": "H8p6GE94RvIV"
   },
   "source": [
    "## 2.2 Dados do processo iterativo"
   ]
  },
  {
   "cell_type": "code",
   "execution_count": null,
   "metadata": {
    "executionInfo": {
     "elapsed": 1105,
     "status": "ok",
     "timestamp": 1619460332252,
     "user": {
      "displayName": "WANDERLEI MALAQUIAS PEREIRA JUNIOR",
      "photoUrl": "https://lh3.googleusercontent.com/a-/AOh14GglFn2KGqmzmMwwLVTugRzApV8LBiqF4115lvfpdg=s64",
      "userId": "03728573811029083355"
     },
     "user_tz": 180
    },
    "id": "SSpWcveTRQ3E"
   },
   "outputs": [],
   "source": [
    "# ERRO INICIAL\n",
    "ERRO = 100\n",
    "# TOLERÂNCIA DO PROCESSO ITERATIVO\n",
    "TOL = 1E-5\n",
    "# INTERVALO INFERIOR\n",
    "A = 2\n",
    "# INTERVALO SUPERIOR\n",
    "B = 3\n",
    "# INICIALIZAÇÃO DO CONTADOR\n",
    "I = 0\n",
    "# CONTADOR INTERNO PARA EVITAR LOOPING INFINITO\n",
    "CONT = 1000"
   ]
  },
  {
   "cell_type": "markdown",
   "metadata": {
    "id": "xBL6A5HoSD1X"
   },
   "source": [
    "## 2.3 Algoritmo"
   ]
  },
  {
   "cell_type": "code",
   "execution_count": null,
   "metadata": {
    "id": "HAwj9bblDnsz"
   },
   "outputs": [],
   "source": [
    "RESULTADOS = []\n",
    "while ERRO > TOL:\n",
    "        ITER = []\n",
    "        ITER = [A, B]\n",
    "        X = (A + B) / 2\n",
    "        ITER.append(X)\n",
    "        FA = FUNCTION(A)\n",
    "        ITER.append(FA)\n",
    "        FB = FUNCTION(B)\n",
    "        ITER.append(FB)\n",
    "        FX = FUNCTION(X)\n",
    "        ITER.append(FX)\n",
    "        ITER.append(FA * FX)\n",
    "        if FA * FX < 0:\n",
    "            A = A\n",
    "            B = X\n",
    "        else:\n",
    "            A = X\n",
    "            B = B\n",
    "        ERRO = (B - A) / 2\n",
    "        I += 1\n",
    "        if I > CONT:\n",
    "            break\n",
    "        ITER.append(ERRO)\n",
    "        RESULTADOS.append(ITER)\n",
    "RESULTADOS = pd.DataFrame(RESULTADOS, columns = ['a', 'b', 'x', 'f(a)', 'f(b)', 'f(x)','f(a).f(x)', 'erro'])\n",
    "# SALVANDO DADOS NO EXCEL\n",
    "RESULTADOS.to_excel(\"output.xlsx\")\n",
    "# APRESENTANDO RESULTADOS NA TELA\n",
    "print('RESULTADOS DO MÉTODO DE BISSEÇÃO')\n",
    "RESULTADOS"
   ]
  },
  {
   "cell_type": "markdown",
   "metadata": {
    "id": "1b_poURZSdWq"
   },
   "source": [
    "## 2.4 Estudo gráfico da convergência"
   ]
  },
  {
   "cell_type": "code",
   "execution_count": null,
   "metadata": {
    "id": "b0VH7V2JPhEI"
   },
   "outputs": [],
   "source": [
    "# GRÁFICO DE CONVERGÊNCIA\n",
    "plt.plot(RESULTADOS['erro'], marker = 'o')\n",
    "plt.xlabel(\"$x$\")\n",
    "plt.ylabel(\"$(b-a)/2$\")\n",
    "plt.show()"
   ]
  }
 ],
 "metadata": {
  "colab": {
   "collapsed_sections": [],
   "name": "MCOMP_Sec_2_3.ipynb",
   "provenance": []
  },
  "kernelspec": {
   "display_name": "Python 3",
   "language": "python",
   "name": "python3"
  },
  "language_info": {
   "codemirror_mode": {
    "name": "ipython",
    "version": 3
   },
   "file_extension": ".py",
   "mimetype": "text/x-python",
   "name": "python",
   "nbconvert_exporter": "python",
   "pygments_lexer": "ipython3",
   "version": "3.8.3"
  }
 },
 "nbformat": 4,
 "nbformat_minor": 1
}
