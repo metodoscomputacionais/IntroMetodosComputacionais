{
 "cells": [
  {
   "cell_type": "markdown",
   "metadata": {
    "id": "MQlVBetnBi3m"
   },
   "source": [
    "# **1.0 IMPORTANTO AS BIBLIOTECAS**\n",
    "\n",
    "Se estiver utilizando o ambiente NBVIEWER não se esqueça de instalar as bibliotecas utilizadas. A linha de comando para instalação está apresentada logo abaixo. Salientamos que é necessário executar apenas uma única vez a instalação da biblioteca."
   ]
  },
  {
   "cell_type": "code",
   "execution_count": 1,
   "metadata": {},
   "outputs": [
    {
     "name": "stdout",
     "output_type": "stream",
     "text": [
      "Requirement already satisfied: numpy in c:\\programdata\\anaconda3\\lib\\site-packages (1.18.5)\n",
      "Requirement already satisfied: matplotlib in c:\\programdata\\anaconda3\\lib\\site-packages (3.2.2)\n",
      "Requirement already satisfied: numpy>=1.11 in c:\\programdata\\anaconda3\\lib\\site-packages (from matplotlib) (1.18.5)\n",
      "Requirement already satisfied: python-dateutil>=2.1 in c:\\programdata\\anaconda3\\lib\\site-packages (from matplotlib) (2.8.1)\n",
      "Requirement already satisfied: kiwisolver>=1.0.1 in c:\\programdata\\anaconda3\\lib\\site-packages (from matplotlib) (1.2.0)\n",
      "Requirement already satisfied: cycler>=0.10 in c:\\programdata\\anaconda3\\lib\\site-packages (from matplotlib) (0.10.0)\n",
      "Requirement already satisfied: pyparsing!=2.0.4,!=2.1.2,!=2.1.6,>=2.0.1 in c:\\programdata\\anaconda3\\lib\\site-packages (from matplotlib) (2.4.7)\n",
      "Requirement already satisfied: six>=1.5 in c:\\programdata\\anaconda3\\lib\\site-packages (from python-dateutil>=2.1->matplotlib) (1.15.0)\n"
     ]
    }
   ],
   "source": [
    "# EXECUTAR ESTÁ CÉLULA UMA ÚNICA VEZ\n",
    "!pip install numpy\n",
    "!pip install matplotlib"
   ]
  },
  {
   "cell_type": "code",
   "execution_count": 2,
   "metadata": {
    "executionInfo": {
     "elapsed": 1112,
     "status": "ok",
     "timestamp": 1619460332252,
     "user": {
      "displayName": "WANDERLEI MALAQUIAS PEREIRA JUNIOR",
      "photoUrl": "https://lh3.googleusercontent.com/a-/AOh14GglFn2KGqmzmMwwLVTugRzApV8LBiqF4115lvfpdg=s64",
      "userId": "03728573811029083355"
     },
     "user_tz": 180
    },
    "id": "4ukbQvYaBZ5D"
   },
   "outputs": [],
   "source": [
    "# IMPORTANDO BIBLIOTECAS\n",
    "import numpy as np\n",
    "import pandas as pd\n",
    "import matplotlib.pyplot as plt"
   ]
  },
  {
   "cell_type": "markdown",
   "metadata": {
    "id": "txbGBHDzDkb7"
   },
   "source": [
    "# **2.0 ALGORITMO BISSEÇÃO**"
   ]
  },
  {
   "cell_type": "markdown",
   "metadata": {
    "id": "_UX0PqyyRVvz"
   },
   "source": [
    "## 2.1 Função Objetivo"
   ]
  },
  {
   "cell_type": "code",
   "execution_count": 3,
   "metadata": {
    "id": "FU7-vYeQRsRV"
   },
   "outputs": [],
   "source": [
    "# FUNÇÃO PARA DECLARAÇÃO DA EQUAÇÃO QUE DESEJA-SE ENCONTRAR A RAÍZ\n",
    "def FUNCTION(X):\n",
    "    F = 8 - 4.5 * (X - np.sin(X))\n",
    "    return F "
   ]
  },
  {
   "cell_type": "markdown",
   "metadata": {
    "id": "H8p6GE94RvIV"
   },
   "source": [
    "## 2.2 Dados do processo iterativo"
   ]
  },
  {
   "cell_type": "code",
   "execution_count": 4,
   "metadata": {
    "executionInfo": {
     "elapsed": 1105,
     "status": "ok",
     "timestamp": 1619460332252,
     "user": {
      "displayName": "WANDERLEI MALAQUIAS PEREIRA JUNIOR",
      "photoUrl": "https://lh3.googleusercontent.com/a-/AOh14GglFn2KGqmzmMwwLVTugRzApV8LBiqF4115lvfpdg=s64",
      "userId": "03728573811029083355"
     },
     "user_tz": 180
    },
    "id": "SSpWcveTRQ3E"
   },
   "outputs": [],
   "source": [
    "# TOLERÂNCIA DO PROCESSO ITERATIVO\n",
    "TOL = 1E-5\n",
    "# INTERVALO INFERIOR\n",
    "A = 2\n",
    "# INTERVALO SUPERIOR\n",
    "B = 3\n",
    "# INICIALIZAÇÃO DO CONTADOR\n",
    "I = 0\n",
    "# CONTADOR INTERNO PARA EVITAR LOOPING INFINITO\n",
    "CONT = 1000\n",
    "# ERRO INICIAL\n",
    "ERRO = B - A / 2 ** 0"
   ]
  },
  {
   "cell_type": "markdown",
   "metadata": {
    "id": "xBL6A5HoSD1X"
   },
   "source": [
    "## 2.3 Algoritmo"
   ]
  },
  {
   "cell_type": "code",
   "execution_count": 5,
   "metadata": {
    "id": "HAwj9bblDnsz"
   },
   "outputs": [
    {
     "name": "stdout",
     "output_type": "stream",
     "text": [
      "RESULTADOS DO MÉTODO DE BISSEÇÃO\n"
     ]
    },
    {
     "data": {
      "text/html": [
       "<div>\n",
       "<style scoped>\n",
       "    .dataframe tbody tr th:only-of-type {\n",
       "        vertical-align: middle;\n",
       "    }\n",
       "\n",
       "    .dataframe tbody tr th {\n",
       "        vertical-align: top;\n",
       "    }\n",
       "\n",
       "    .dataframe thead th {\n",
       "        text-align: right;\n",
       "    }\n",
       "</style>\n",
       "<table border=\"1\" class=\"dataframe\">\n",
       "  <thead>\n",
       "    <tr style=\"text-align: right;\">\n",
       "      <th></th>\n",
       "      <th>a</th>\n",
       "      <th>b</th>\n",
       "      <th>x</th>\n",
       "      <th>f(a)</th>\n",
       "      <th>f(b)</th>\n",
       "      <th>f(x)</th>\n",
       "      <th>f(a).f(x)</th>\n",
       "      <th>erro</th>\n",
       "    </tr>\n",
       "  </thead>\n",
       "  <tbody>\n",
       "    <tr>\n",
       "      <th>0</th>\n",
       "      <td>2.000000</td>\n",
       "      <td>3.000000</td>\n",
       "      <td>2.500000</td>\n",
       "      <td>3.091838</td>\n",
       "      <td>-4.864960</td>\n",
       "      <td>-0.556875</td>\n",
       "      <td>-1.721769</td>\n",
       "      <td>0.250000</td>\n",
       "    </tr>\n",
       "    <tr>\n",
       "      <th>1</th>\n",
       "      <td>2.000000</td>\n",
       "      <td>2.500000</td>\n",
       "      <td>2.250000</td>\n",
       "      <td>3.091838</td>\n",
       "      <td>-0.556875</td>\n",
       "      <td>1.376329</td>\n",
       "      <td>4.255388</td>\n",
       "      <td>0.062500</td>\n",
       "    </tr>\n",
       "    <tr>\n",
       "      <th>2</th>\n",
       "      <td>2.250000</td>\n",
       "      <td>2.500000</td>\n",
       "      <td>2.375000</td>\n",
       "      <td>1.376329</td>\n",
       "      <td>-0.556875</td>\n",
       "      <td>0.434083</td>\n",
       "      <td>0.597441</td>\n",
       "      <td>0.015625</td>\n",
       "    </tr>\n",
       "    <tr>\n",
       "      <th>3</th>\n",
       "      <td>2.375000</td>\n",
       "      <td>2.500000</td>\n",
       "      <td>2.437500</td>\n",
       "      <td>0.434083</td>\n",
       "      <td>-0.556875</td>\n",
       "      <td>-0.055709</td>\n",
       "      <td>-0.024182</td>\n",
       "      <td>0.003906</td>\n",
       "    </tr>\n",
       "    <tr>\n",
       "      <th>4</th>\n",
       "      <td>2.375000</td>\n",
       "      <td>2.437500</td>\n",
       "      <td>2.406250</td>\n",
       "      <td>0.434083</td>\n",
       "      <td>-0.055709</td>\n",
       "      <td>0.190661</td>\n",
       "      <td>0.082763</td>\n",
       "      <td>0.000977</td>\n",
       "    </tr>\n",
       "    <tr>\n",
       "      <th>5</th>\n",
       "      <td>2.406250</td>\n",
       "      <td>2.437500</td>\n",
       "      <td>2.421875</td>\n",
       "      <td>0.190661</td>\n",
       "      <td>-0.055709</td>\n",
       "      <td>0.067838</td>\n",
       "      <td>0.012934</td>\n",
       "      <td>0.000244</td>\n",
       "    </tr>\n",
       "    <tr>\n",
       "      <th>6</th>\n",
       "      <td>2.421875</td>\n",
       "      <td>2.437500</td>\n",
       "      <td>2.429688</td>\n",
       "      <td>0.067838</td>\n",
       "      <td>-0.055709</td>\n",
       "      <td>0.006154</td>\n",
       "      <td>0.000418</td>\n",
       "      <td>0.000061</td>\n",
       "    </tr>\n",
       "    <tr>\n",
       "      <th>7</th>\n",
       "      <td>2.429688</td>\n",
       "      <td>2.437500</td>\n",
       "      <td>2.433594</td>\n",
       "      <td>0.006154</td>\n",
       "      <td>-0.055709</td>\n",
       "      <td>-0.024755</td>\n",
       "      <td>-0.000152</td>\n",
       "      <td>0.000015</td>\n",
       "    </tr>\n",
       "    <tr>\n",
       "      <th>8</th>\n",
       "      <td>2.429688</td>\n",
       "      <td>2.433594</td>\n",
       "      <td>2.431641</td>\n",
       "      <td>0.006154</td>\n",
       "      <td>-0.024755</td>\n",
       "      <td>-0.009295</td>\n",
       "      <td>-0.000057</td>\n",
       "      <td>0.000004</td>\n",
       "    </tr>\n",
       "  </tbody>\n",
       "</table>\n",
       "</div>"
      ],
      "text/plain": [
       "          a         b         x      f(a)      f(b)      f(x)  f(a).f(x)  \\\n",
       "0  2.000000  3.000000  2.500000  3.091838 -4.864960 -0.556875  -1.721769   \n",
       "1  2.000000  2.500000  2.250000  3.091838 -0.556875  1.376329   4.255388   \n",
       "2  2.250000  2.500000  2.375000  1.376329 -0.556875  0.434083   0.597441   \n",
       "3  2.375000  2.500000  2.437500  0.434083 -0.556875 -0.055709  -0.024182   \n",
       "4  2.375000  2.437500  2.406250  0.434083 -0.055709  0.190661   0.082763   \n",
       "5  2.406250  2.437500  2.421875  0.190661 -0.055709  0.067838   0.012934   \n",
       "6  2.421875  2.437500  2.429688  0.067838 -0.055709  0.006154   0.000418   \n",
       "7  2.429688  2.437500  2.433594  0.006154 -0.055709 -0.024755  -0.000152   \n",
       "8  2.429688  2.433594  2.431641  0.006154 -0.024755 -0.009295  -0.000057   \n",
       "\n",
       "       erro  \n",
       "0  0.250000  \n",
       "1  0.062500  \n",
       "2  0.015625  \n",
       "3  0.003906  \n",
       "4  0.000977  \n",
       "5  0.000244  \n",
       "6  0.000061  \n",
       "7  0.000015  \n",
       "8  0.000004  "
      ]
     },
     "execution_count": 5,
     "metadata": {},
     "output_type": "execute_result"
    }
   ],
   "source": [
    "RESULTADOS = []\n",
    "while ERRO > TOL:\n",
    "        ITER = []\n",
    "        ITER = [A, B]\n",
    "        X = (A + B) / 2\n",
    "        ITER.append(X)\n",
    "        FA = FUNCTION(A)\n",
    "        ITER.append(FA)\n",
    "        FB = FUNCTION(B)\n",
    "        ITER.append(FB)\n",
    "        FX = FUNCTION(X)\n",
    "        ITER.append(FX)\n",
    "        ITER.append(FA * FX)\n",
    "        if FA * FX < 0:\n",
    "            A = A\n",
    "            B = X\n",
    "        else:\n",
    "            A = X\n",
    "            B = B\n",
    "        I += 1 \n",
    "        ERRO = (B - A) / 2 ** I\n",
    "        if I > CONT:\n",
    "            break\n",
    "        ITER.append(ERRO)\n",
    "        RESULTADOS.append(ITER)\n",
    "RESULTADOS = pd.DataFrame(RESULTADOS, columns = ['a', 'b', 'x', 'f(a)', 'f(b)', 'f(x)','f(a).f(x)', 'erro'])\n",
    "# SALVANDO DADOS NO EXCEL\n",
    "RESULTADOS.to_excel(\"output.xlsx\")\n",
    "# APRESENTANDO RESULTADOS NA TELA\n",
    "print('RESULTADOS DO MÉTODO DE BISSEÇÃO')\n",
    "RESULTADOS"
   ]
  },
  {
   "cell_type": "markdown",
   "metadata": {
    "id": "1b_poURZSdWq"
   },
   "source": [
    "## 2.4 Estudo gráfico da convergência"
   ]
  },
  {
   "cell_type": "code",
   "execution_count": 7,
   "metadata": {
    "id": "b0VH7V2JPhEI"
   },
   "outputs": [
    {
     "data": {
      "image/png": "[encoded data removed]",
      "text/plain": [
       "<Figure size 432x288 with 1 Axes>"
      ]
     },
     "metadata": {
      "needs_background": "light"
     },
     "output_type": "display_data"
    }
   ],
   "source": [
    "# GRÁFICO DE CONVERGÊNCIA\n",
    "plt.plot(RESULTADOS['erro'], marker = 'o')\n",
    "plt.xlabel(\"$x$\")\n",
    "plt.ylabel(\"$(b-a)/2 ^ n $\")\n",
    "plt.show()"
   ]
  },
  {
   "cell_type": "code",
   "execution_count": null,
   "metadata": {},
   "outputs": [],
   "source": []
  }
 ],
 "metadata": {
  "colab": {
   "collapsed_sections": [],
   "name": "MCOMP_Sec_2_3.ipynb",
   "provenance": []
  },
  "kernelspec": {
   "display_name": "Python 3",
   "language": "python",
   "name": "python3"
  },
  "language_info": {
   "codemirror_mode": {
    "name": "ipython",
    "version": 3
   },
   "file_extension": ".py",
   "mimetype": "text/x-python",
   "name": "python",
   "nbconvert_exporter": "python",
   "pygments_lexer": "ipython3",
   "version": "3.8.3"
  }
 },
 "nbformat": 4,
 "nbformat_minor": 1
}
