{
  "nbformat": 4,
  "nbformat_minor": 0,
  "metadata": {
    "colab": {
      "name": "MCOMP_Sec-2.1.ipynb",
      "provenance": []
    },
    "kernelspec": {
      "name": "python3",
      "display_name": "Python 3"
    },
    "language_info": {
      "name": "python"
    }
  },
  "cells": [
    {
      "cell_type": "markdown",
      "metadata": {
        "id": "KM--0uJ8neHy"
      },
      "source": [
        "**1.0 IMPORTANTO BIBLIOTECA E CONSTRUINDO**"
      ]
    },
    {
      "cell_type": "code",
      "metadata": {
        "id": "T6jiuADomLoH"
      },
      "source": [
        "# IMPORTANDO BIBLIOTECAS\n",
        "import numpy as np\n",
        "import matplotlib.pyplot as plt\n",
        "\n",
        "# FUNÇÃO PARA DECLARAÇÃO DA EQUAÇÃO DESEJADA\n",
        "def FUNCTION(X):\n",
        "    F = 8 - 4.5 * (X - np.sin(X))\n",
        "    return F "
      ],
      "execution_count": 1,
      "outputs": []
    },
    {
      "cell_type": "markdown",
      "metadata": {
        "id": "euV0BvhOnWWK"
      },
      "source": [
        "**2.0 CONSTRUINDO O GRÁFICO DA FUNÇÃO**"
      ]
    },
    {
      "cell_type": "code",
      "metadata": {
        "colab": {
          "base_uri": "https://localhost:8080/",
          "height": 279
        },
        "id": "iw0rMWQtmPgE",
        "outputId": "c02fd14a-e975-456a-bc7e-9926fe1b81e0"
      },
      "source": [
        "# GERANDO O INTERVALO\n",
        "INTERVALO = [0, 4]\n",
        "A = INTERVALO[0]\n",
        "B = INTERVALO[1]\n",
        "# CONSTRUÇÃO DOS PONTOS\n",
        "X = np.linspace(A, B, 100)\n",
        "Y = FUNCTION(X)\n",
        "FIG = plt.figure(figsize=(6, 4))\n",
        "plt.plot(X, Y)\n",
        "plt.xlabel(\"$x$\")\n",
        "plt.ylabel(\"$f(x)$\")\n",
        "plt.show()\n",
        "FIG.savefig('fig2.png', dpi=600)"
      ],
      "execution_count": 13,
      "outputs": [
        {
          "output_type": "display_data",
          "data": {
            "image/png": "[encoded data removed]",
            "text/plain": [
              "<Figure size 432x288 with 1 Axes>"
            ]
          },
          "metadata": {
            "tags": [],
            "needs_background": "light"
          }
        }
      ]
    },
    {
      "cell_type": "markdown",
      "metadata": {
        "id": "iFj7mDIlnPZx"
      },
      "source": [
        "**3.0 CHECANDO O TEOREMA DE BOLZANO**\n",
        "\n",
        "- $f(a) . f(b) < 0$ - Possui ao menos uma raiz no intervalo selecionado.\n",
        "- $f(a) . f(b) > 0$ - Não possui ao menos uma raiz no intervalo selecionado."
      ]
    },
    {
      "cell_type": "code",
      "metadata": {
        "colab": {
          "base_uri": "https://localhost:8080/"
        },
        "id": "fajTrQwEoKDx",
        "outputId": "fcb64323-4a47-41fb-8fd3-6dbfdec98817"
      },
      "source": [
        "# VALOR DE F(A) E F(B)\n",
        "F_A = FUNCTION(A)\n",
        "F_B = FUNCTION(B)\n",
        "BOLZANO = F_A * F_B\n",
        "print('Valor do Teorema de Bolzano: ', BOLZANO)"
      ],
      "execution_count": 3,
      "outputs": [
        {
          "output_type": "stream",
          "text": [
            "Valor do Teorema de Bolzano:  -107.24488983108543\n"
          ],
          "name": "stdout"
        }
      ]
    },
    {
      "cell_type": "markdown",
      "metadata": {
        "id": "TgSDcr-apW5g"
      },
      "source": [
        "Caso escolhessemos outro intervalo como por exemplo $[0, 1]$ é possível verificar que não é possível encontrar raízes nesse intervalo."
      ]
    },
    {
      "cell_type": "code",
      "metadata": {
        "colab": {
          "base_uri": "https://localhost:8080/"
        },
        "id": "LntOlrzrpbIG",
        "outputId": "c5688100-545c-463f-9490-bdd95cc5d954"
      },
      "source": [
        "A = 0\n",
        "B = 1\n",
        "F_A = FUNCTION(A)\n",
        "F_B = FUNCTION(B)\n",
        "BOLZANO = F_A * F_B\n",
        "print('Valor do Teorema de Bolzano: ', BOLZANO)"
      ],
      "execution_count": 4,
      "outputs": [
        {
          "output_type": "stream",
          "text": [
            "Valor do Teorema de Bolzano:  58.292955453084275\n"
          ],
          "name": "stdout"
        }
      ]
    }
  ]
}