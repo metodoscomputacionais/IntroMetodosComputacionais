{
  "nbformat": 4,
  "nbformat_minor": 0,
  "metadata": {
    "colab": {
      "name": "MCOMP_Sec-2.3.ipynb",
      "provenance": []
    },
    "kernelspec": {
      "name": "python3",
      "display_name": "Python 3"
    },
    "language_info": {
      "name": "python"
    }
  },
  "cells": [
    {
      "cell_type": "markdown",
      "metadata": {
        "id": "MQlVBetnBi3m"
      },
      "source": [
        "**1.0 IMPORTANTO BIBLIOTECA E CONSTRUINDO**"
      ]
    },
    {
      "cell_type": "code",
      "metadata": {
        "id": "4ukbQvYaBZ5D"
      },
      "source": [
        "# IMPORTANDO BIBLIOTECAS\n",
        "import numpy as np\n",
        "import pandas as pd\n",
        "import matplotlib.pyplot as plt\n",
        "\n",
        "# FUNÇÃO PARA DECLARAÇÃO DA EQUAÇÃO DESEJADA\n",
        "def FUNCTION(X):\n",
        "    F = 8 - 4.5 * (X - np.sin(X))\n",
        "    return F "
      ],
      "execution_count": 1,
      "outputs": []
    },
    {
      "cell_type": "markdown",
      "metadata": {
        "id": "txbGBHDzDkb7"
      },
      "source": [
        "**2.0 ALGORITMO BISSEÇÃO**"
      ]
    },
    {
      "cell_type": "code",
      "metadata": {
        "colab": {
          "base_uri": "https://localhost:8080/",
          "height": 546
        },
        "id": "HAwj9bblDnsz",
        "outputId": "9d630547-ae78-446a-c379-6987d27561ba"
      },
      "source": [
        "RESULTADOS = []\n",
        "ERRO = 100\n",
        "TOL = 1E-5\n",
        "A = 2\n",
        "B = 3\n",
        "I = 0\n",
        "CONT = 50\n",
        "while ERRO > TOL:\n",
        "      ITER = []\n",
        "      ITER = [A, B]\n",
        "      X = (A + B) / 2\n",
        "      ITER.append(X)\n",
        "      FA = FUNCTION(A)\n",
        "      FX = FUNCTION(X)\n",
        "      ITER.append(FA * FX)\n",
        "      if FA * FX < 0:\n",
        "          A = A\n",
        "          B = X\n",
        "      else:\n",
        "          A = X\n",
        "          B = B\n",
        "      ERRO = (B - A) / 2\n",
        "      I += 1\n",
        "      if I > CONT:\n",
        "          break\n",
        "      ITER.append(ERRO)\n",
        "      RESULTADOS.append(ITER)\n",
        "RESULTADOS = pd.DataFrame(RESULTADOS, columns = ['a', 'b', 'x', 'f(a).f(x)', 'erro'])\n",
        "# SALVANDO DADOS NO EXCEL\n",
        "RESULTADOS.to_excel(\"output.xlsx\")\n",
        "# APRESENTANDO RESULTADOS NA TELA\n",
        "print('RESULTADOS DO MÉTODO DE BISSEÇÃO')\n",
        "RESULTADOS"
      ],
      "execution_count": 2,
      "outputs": [
        {
          "output_type": "stream",
          "text": [
            "RESULTADOS DO MÉTODO DE BISSEÇÃO\n"
          ],
          "name": "stdout"
        },
        {
          "output_type": "execute_result",
          "data": {
            "text/html": [
              "<div>\n",
              "<style scoped>\n",
              "    .dataframe tbody tr th:only-of-type {\n",
              "        vertical-align: middle;\n",
              "    }\n",
              "\n",
              "    .dataframe tbody tr th {\n",
              "        vertical-align: top;\n",
              "    }\n",
              "\n",
              "    .dataframe thead th {\n",
              "        text-align: right;\n",
              "    }\n",
              "</style>\n",
              "<table border=\"1\" class=\"dataframe\">\n",
              "  <thead>\n",
              "    <tr style=\"text-align: right;\">\n",
              "      <th></th>\n",
              "      <th>a</th>\n",
              "      <th>b</th>\n",
              "      <th>x</th>\n",
              "      <th>f(a).f(x)</th>\n",
              "      <th>erro</th>\n",
              "    </tr>\n",
              "  </thead>\n",
              "  <tbody>\n",
              "    <tr>\n",
              "      <th>0</th>\n",
              "      <td>2.000000</td>\n",
              "      <td>3.000000</td>\n",
              "      <td>2.500000</td>\n",
              "      <td>-1.721769e+00</td>\n",
              "      <td>0.250000</td>\n",
              "    </tr>\n",
              "    <tr>\n",
              "      <th>1</th>\n",
              "      <td>2.000000</td>\n",
              "      <td>2.500000</td>\n",
              "      <td>2.250000</td>\n",
              "      <td>4.255388e+00</td>\n",
              "      <td>0.125000</td>\n",
              "    </tr>\n",
              "    <tr>\n",
              "      <th>2</th>\n",
              "      <td>2.250000</td>\n",
              "      <td>2.500000</td>\n",
              "      <td>2.375000</td>\n",
              "      <td>5.974407e-01</td>\n",
              "      <td>0.062500</td>\n",
              "    </tr>\n",
              "    <tr>\n",
              "      <th>3</th>\n",
              "      <td>2.375000</td>\n",
              "      <td>2.500000</td>\n",
              "      <td>2.437500</td>\n",
              "      <td>-2.418217e-02</td>\n",
              "      <td>0.031250</td>\n",
              "    </tr>\n",
              "    <tr>\n",
              "      <th>4</th>\n",
              "      <td>2.375000</td>\n",
              "      <td>2.437500</td>\n",
              "      <td>2.406250</td>\n",
              "      <td>8.276258e-02</td>\n",
              "      <td>0.015625</td>\n",
              "    </tr>\n",
              "    <tr>\n",
              "      <th>5</th>\n",
              "      <td>2.406250</td>\n",
              "      <td>2.437500</td>\n",
              "      <td>2.421875</td>\n",
              "      <td>1.293409e-02</td>\n",
              "      <td>0.007812</td>\n",
              "    </tr>\n",
              "    <tr>\n",
              "      <th>6</th>\n",
              "      <td>2.421875</td>\n",
              "      <td>2.437500</td>\n",
              "      <td>2.429688</td>\n",
              "      <td>4.175084e-04</td>\n",
              "      <td>0.003906</td>\n",
              "    </tr>\n",
              "    <tr>\n",
              "      <th>7</th>\n",
              "      <td>2.429688</td>\n",
              "      <td>2.437500</td>\n",
              "      <td>2.433594</td>\n",
              "      <td>-1.523526e-04</td>\n",
              "      <td>0.001953</td>\n",
              "    </tr>\n",
              "    <tr>\n",
              "      <th>8</th>\n",
              "      <td>2.429688</td>\n",
              "      <td>2.433594</td>\n",
              "      <td>2.431641</td>\n",
              "      <td>-5.720309e-05</td>\n",
              "      <td>0.000977</td>\n",
              "    </tr>\n",
              "    <tr>\n",
              "      <th>9</th>\n",
              "      <td>2.429688</td>\n",
              "      <td>2.431641</td>\n",
              "      <td>2.430664</td>\n",
              "      <td>-9.654156e-06</td>\n",
              "      <td>0.000488</td>\n",
              "    </tr>\n",
              "    <tr>\n",
              "      <th>10</th>\n",
              "      <td>2.429688</td>\n",
              "      <td>2.430664</td>\n",
              "      <td>2.430176</td>\n",
              "      <td>1.411385e-05</td>\n",
              "      <td>0.000244</td>\n",
              "    </tr>\n",
              "    <tr>\n",
              "      <th>11</th>\n",
              "      <td>2.430176</td>\n",
              "      <td>2.430664</td>\n",
              "      <td>2.430420</td>\n",
              "      <td>8.310818e-07</td>\n",
              "      <td>0.000122</td>\n",
              "    </tr>\n",
              "    <tr>\n",
              "      <th>12</th>\n",
              "      <td>2.430420</td>\n",
              "      <td>2.430664</td>\n",
              "      <td>2.430542</td>\n",
              "      <td>-2.185632e-07</td>\n",
              "      <td>0.000061</td>\n",
              "    </tr>\n",
              "    <tr>\n",
              "      <th>13</th>\n",
              "      <td>2.430420</td>\n",
              "      <td>2.430542</td>\n",
              "      <td>2.430481</td>\n",
              "      <td>-4.361243e-08</td>\n",
              "      <td>0.000031</td>\n",
              "    </tr>\n",
              "    <tr>\n",
              "      <th>14</th>\n",
              "      <td>2.430420</td>\n",
              "      <td>2.430481</td>\n",
              "      <td>2.430450</td>\n",
              "      <td>4.386145e-08</td>\n",
              "      <td>0.000015</td>\n",
              "    </tr>\n",
              "    <tr>\n",
              "      <th>15</th>\n",
              "      <td>2.430450</td>\n",
              "      <td>2.430481</td>\n",
              "      <td>2.430466</td>\n",
              "      <td>4.162334e-11</td>\n",
              "      <td>0.000008</td>\n",
              "    </tr>\n",
              "  </tbody>\n",
              "</table>\n",
              "</div>"
            ],
            "text/plain": [
              "           a         b         x     f(a).f(x)      erro\n",
              "0   2.000000  3.000000  2.500000 -1.721769e+00  0.250000\n",
              "1   2.000000  2.500000  2.250000  4.255388e+00  0.125000\n",
              "2   2.250000  2.500000  2.375000  5.974407e-01  0.062500\n",
              "3   2.375000  2.500000  2.437500 -2.418217e-02  0.031250\n",
              "4   2.375000  2.437500  2.406250  8.276258e-02  0.015625\n",
              "5   2.406250  2.437500  2.421875  1.293409e-02  0.007812\n",
              "6   2.421875  2.437500  2.429688  4.175084e-04  0.003906\n",
              "7   2.429688  2.437500  2.433594 -1.523526e-04  0.001953\n",
              "8   2.429688  2.433594  2.431641 -5.720309e-05  0.000977\n",
              "9   2.429688  2.431641  2.430664 -9.654156e-06  0.000488\n",
              "10  2.429688  2.430664  2.430176  1.411385e-05  0.000244\n",
              "11  2.430176  2.430664  2.430420  8.310818e-07  0.000122\n",
              "12  2.430420  2.430664  2.430542 -2.185632e-07  0.000061\n",
              "13  2.430420  2.430542  2.430481 -4.361243e-08  0.000031\n",
              "14  2.430420  2.430481  2.430450  4.386145e-08  0.000015\n",
              "15  2.430450  2.430481  2.430466  4.162334e-11  0.000008"
            ]
          },
          "metadata": {
            "tags": []
          },
          "execution_count": 2
        }
      ]
    },
    {
      "cell_type": "code",
      "metadata": {
        "colab": {
          "base_uri": "https://localhost:8080/",
          "height": 279
        },
        "id": "b0VH7V2JPhEI",
        "outputId": "7eeb7c02-acbe-41f8-d51b-8cf89e5bcd42"
      },
      "source": [
        "# GRÁFICO DE CONVERGÊNCIA\n",
        "plt.plot(RESULTADOS['f(a).f(x)'], marker = 'o')\n",
        "plt.xlabel(\"$x$\")\n",
        "plt.ylabel(\"$f(a).f(x)$\")\n",
        "plt.show()"
      ],
      "execution_count": 4,
      "outputs": [
        {
          "output_type": "display_data",
          "data": {
            "image/png": "[encoded data removed]",
            "text/plain": [
              "<Figure size 432x288 with 1 Axes>"
            ]
          },
          "metadata": {
            "tags": [],
            "needs_background": "light"
          }
        }
      ]
    }
  ]
}