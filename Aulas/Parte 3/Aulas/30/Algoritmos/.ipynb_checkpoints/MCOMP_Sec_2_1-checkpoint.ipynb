{
 "cells": [
  {
   "cell_type": "markdown",
   "metadata": {
    "id": "KM--0uJ8neHy"
   },
   "source": [
    "# **1.0 IMPORTANTO AS BIBLIOTECAS**\n",
    "\n",
    "Se estiver utilizando o ambiente NBVIEWER não se esqueça de instalar as bibliotecas utilizadas. A linha de comando para instalação está apresentada logo abaixo. Salientamos que é necessário executar apenas uma única vez a instalação da biblioteca."
   ]
  },
  {
   "cell_type": "code",
   "execution_count": null,
   "metadata": {
    "executionInfo": {
     "elapsed": 751,
     "status": "ok",
     "timestamp": 1619459665234,
     "user": {
      "displayName": "WANDERLEI MALAQUIAS PEREIRA JUNIOR",
      "photoUrl": "https://lh3.googleusercontent.com/a-/AOh14GglFn2KGqmzmMwwLVTugRzApV8LBiqF4115lvfpdg=s64",
      "userId": "03728573811029083355"
     },
     "user_tz": 180
    },
    "id": "T6jiuADomLoH"
   },
   "outputs": [],
   "source": [
    "!pip install numpy\n",
    "!pip install matplotlib"
   ]
  },
  {
   "cell_type": "code",
   "execution_count": null,
   "metadata": {},
   "outputs": [],
   "source": [
    "# IMPORTANDO BIBLIOTECAS\n",
    "import numpy as np\n",
    "import matplotlib.pyplot as plt"
   ]
  },
  {
   "cell_type": "markdown",
   "metadata": {
    "id": "euV0BvhOnWWK"
   },
   "source": [
    "# **2.0 CONSTRUINDO O GRÁFICO DA FUNÇÃO**"
   ]
  },
  {
   "cell_type": "markdown",
   "metadata": {
    "id": "cPwov-WvTPA3"
   },
   "source": [
    "## 2.1 Função Objetivo"
   ]
  },
  {
   "cell_type": "code",
   "execution_count": null,
   "metadata": {
    "executionInfo": {
     "elapsed": 1120,
     "status": "ok",
     "timestamp": 1619459665607,
     "user": {
      "displayName": "WANDERLEI MALAQUIAS PEREIRA JUNIOR",
      "photoUrl": "https://lh3.googleusercontent.com/a-/AOh14GglFn2KGqmzmMwwLVTugRzApV8LBiqF4115lvfpdg=s64",
      "userId": "03728573811029083355"
     },
     "user_tz": 180
    },
    "id": "lW-Epx3zTNvg"
   },
   "outputs": [],
   "source": [
    "# FUNÇÃO PARA DECLARAÇÃO DA EQUAÇÃO QUE DESEJA-SE ENCONTRAR A RAÍZ\n",
    "def FUNCTION(X):\n",
    "    F = 8 - 4.5 * (X - np.sin(X))\n",
    "    return F "
   ]
  },
  {
   "cell_type": "markdown",
   "metadata": {
    "id": "mtE64t9QTUqg"
   },
   "source": [
    "\n",
    "Foi construída uma Figura da função $F(x)$ no intervalo $[0, 4]$."
   ]
  },
  {
   "cell_type": "code",
   "execution_count": null,
   "metadata": {
    "id": "iw0rMWQtmPgE"
   },
   "outputs": [],
   "source": [
    "# GERANDO O INTERVALO\n",
    "A = 0\n",
    "B = 4\n",
    "# CONSTRUÇÃO DOS PONTOS DA FUNÇÃO\n",
    "X = np.linspace(A, B, 100)\n",
    "Y = FUNCTION(X)\n",
    "plt.plot(X, Y)\n",
    "plt.xlabel(\"$x$\")\n",
    "plt.ylabel(\"$f(x)$\")\n",
    "plt.show()"
   ]
  },
  {
   "cell_type": "markdown",
   "metadata": {
    "id": "iFj7mDIlnPZx"
   },
   "source": [
    "# **3.0 CHECANDO O TEOREMA DE BOLZANO**\n",
    "\n",
    "- $f(a) . f(b) < 0$ - Possui ao menos uma raíz no intervalo selecionado.\n",
    "- $f(a) . f(b) > 0$ - Não possui ao menos uma raíz no intervalo selecionado."
   ]
  },
  {
   "cell_type": "code",
   "execution_count": null,
   "metadata": {
    "id": "fajTrQwEoKDx"
   },
   "outputs": [],
   "source": [
    "# VALOR DE F(A) E F(B)\n",
    "F_A = FUNCTION(A)\n",
    "F_B = FUNCTION(B)\n",
    "# TEOREMA DE BOLZANO\n",
    "BOLZANO = F_A * F_B\n",
    "print('Valor do Teorema de Bolzano: ', '%.2f' % BOLZANO, 'para o intervalo A = 0 e B = 4')"
   ]
  },
  {
   "cell_type": "markdown",
   "metadata": {
    "id": "TgSDcr-apW5g"
   },
   "source": [
    "Caso escolhêssemos outro intervalo como por exemplo $[0, 1]$ não seria possível encontrar raízes nesse intervalo."
   ]
  },
  {
   "cell_type": "code",
   "execution_count": null,
   "metadata": {
    "id": "LntOlrzrpbIG"
   },
   "outputs": [],
   "source": [
    "A = 0\n",
    "B = 1\n",
    "F_A = FUNCTION(A)\n",
    "F_B = FUNCTION(B)\n",
    "BOLZANO = F_A * F_B\n",
    "print('Valor do Teorema de Bolzano: ', '%.2f' % BOLZANO, 'para o intervalo A = 0 e B = 1')"
   ]
  }
 ],
 "metadata": {
  "colab": {
   "collapsed_sections": [],
   "name": "MCOMP_Sec_2_1.ipynb",
   "provenance": []
  },
  "kernelspec": {
   "display_name": "Python 3",
   "language": "python",
   "name": "python3"
  },
  "language_info": {
   "codemirror_mode": {
    "name": "ipython",
    "version": 3
   },
   "file_extension": ".py",
   "mimetype": "text/x-python",
   "name": "python",
   "nbconvert_exporter": "python",
   "pygments_lexer": "ipython3",
   "version": "3.8.3"
  }
 },
 "nbformat": 4,
 "nbformat_minor": 1
}
