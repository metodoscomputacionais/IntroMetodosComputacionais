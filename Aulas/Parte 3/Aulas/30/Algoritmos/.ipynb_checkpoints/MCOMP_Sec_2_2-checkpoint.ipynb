{
 "cells": [
  {
   "cell_type": "markdown",
   "metadata": {
    "id": "IvolgmwP0UYJ"
   },
   "source": [
    "# **1.0 IMPORTANTO AS BIBLIOTECAS**\n",
    "\n",
    "Se estiver utilizando o ambiente NBVIEWER não se esqueça de instalar as bibliotecas utilizadas. A linha de comando para instalação está apresentada logo abaixo. Salientamos que é necessário executar apenas uma única vez a instalação da biblioteca."
   ]
  },
  {
   "cell_type": "code",
   "execution_count": null,
   "metadata": {},
   "outputs": [],
   "source": [
    "# EXECUTAR ESTÁ CÉLULA UMA ÚNICA VEZ\n",
    "!pip install numpy\n",
    "!pip install matplotlib"
   ]
  },
  {
   "cell_type": "code",
   "execution_count": null,
   "metadata": {
    "executionInfo": {
     "elapsed": 1036,
     "status": "ok",
     "timestamp": 1619460728774,
     "user": {
      "displayName": "WANDERLEI MALAQUIAS PEREIRA JUNIOR",
      "photoUrl": "https://lh3.googleusercontent.com/a-/AOh14GglFn2KGqmzmMwwLVTugRzApV8LBiqF4115lvfpdg=s64",
      "userId": "03728573811029083355"
     },
     "user_tz": 180
    },
    "id": "srWSq5yz0Rw4"
   },
   "outputs": [],
   "source": [
    "# IMPORTANDO BIBLIOTECAS\n",
    "import numpy as np\n",
    "import matplotlib.pyplot as plt"
   ]
  },
  {
   "cell_type": "markdown",
   "metadata": {
    "id": "81W33LSp6eXf"
   },
   "source": [
    "# **2.0 INTERPRETAÇÃO GRÁFICA E ITERAÇÕES**\n"
   ]
  },
  {
   "cell_type": "markdown",
   "metadata": {
    "id": "r3mDeVd_Tosq"
   },
   "source": [
    "## 2.1 Função Objetivo"
   ]
  },
  {
   "cell_type": "code",
   "execution_count": null,
   "metadata": {
    "executionInfo": {
     "elapsed": 1347,
     "status": "ok",
     "timestamp": 1619460729088,
     "user": {
      "displayName": "WANDERLEI MALAQUIAS PEREIRA JUNIOR",
      "photoUrl": "https://lh3.googleusercontent.com/a-/AOh14GglFn2KGqmzmMwwLVTugRzApV8LBiqF4115lvfpdg=s64",
      "userId": "03728573811029083355"
     },
     "user_tz": 180
    },
    "id": "iQP14Yf2ThlK"
   },
   "outputs": [],
   "source": [
    "# FUNÇÃO PARA DECLARAÇÃO DA EQUAÇÃO QUE DESEJA-SE ENCONTRAR A RAÍZ\n",
    "def FUNCTION(X):\n",
    "    F = 8 - 4.5 * (X - np.sin(X))\n",
    "    return F "
   ]
  },
  {
   "cell_type": "markdown",
   "metadata": {
    "id": "fgxDMxFHTkLx"
   },
   "source": [
    "\n",
    "Construção do gráfico da função e do intervalo inicial $[2, 3]$."
   ]
  },
  {
   "cell_type": "code",
   "execution_count": null,
   "metadata": {
    "id": "qnopWKr10wa1"
   },
   "outputs": [],
   "source": [
    "# CONSTRUÇÃO DOS PONTOS PARA PLOTAGEM\n",
    "Y_L = np.linspace(-15, 10, 100)\n",
    "X_0 = np.linspace(2, 2, 100)\n",
    "X_1 = np.linspace(3, 3, 100)\n",
    "X = np.linspace(0, 4, 100)\n",
    "Y = FUNCTION(X)\n",
    "# PLOTANDO AS CURVAS\n",
    "plt.plot(X_0, Y_L, X_1, Y_L, X, Y)\n",
    "plt.xlabel(\"$x$\")\n",
    "plt.ylabel(\"$f(x)$\")\n",
    "plt.legend(['Limite inferior', 'Limite superior', '$f(x)$'])\n",
    "plt.show()"
   ]
  },
  {
   "cell_type": "markdown",
   "metadata": {
    "id": "wmzxTaUNCHkJ"
   },
   "source": [
    "## 2.1 Iteração $t=1$\n",
    "\n",
    "$$x^1 = \\frac{a^0 + b^0}{2}$$\n",
    "\n",
    "Devemos checar a condição para existência do intervalo $f(x^1).f(a^0) < 0$"
   ]
  },
  {
   "cell_type": "code",
   "execution_count": null,
   "metadata": {
    "id": "sk1QJXFv6eA5"
   },
   "outputs": [],
   "source": [
    "# INTERVALO A, B\n",
    "A = 2\n",
    "B = 3\n",
    "# NOVO PONTO PARA O INTERVALO\n",
    "X_1 = (A + B) / 2\n",
    "print('Valor de X_1: ', '%.2f' % X_1)\n",
    "F_A = FUNCTION(A)\n",
    "print('Valor de f(a): ', '%.2f' % F_A)\n",
    "F_X = FUNCTION(X_1)\n",
    "print('Valor de f(x): ', '%.2f' % F_X)\n",
    "FA_FX = F_X * F_A\n",
    "print('Valor de f(x).f(a): ', '%.2f' % FA_FX)\n",
    "Y_L = np.linspace(-15, 10, 10)\n",
    "X_0 = np.linspace(A, A, 10)\n",
    "X_1 = np.linspace(X_1, X_1, 10)\n",
    "X_2 = np.linspace(B, B, 10)\n",
    "# CONSTRUÇÃO DOS PONTOS\n",
    "X = np.linspace(0, 4, 10)\n",
    "Y = FUNCTION(X)\n",
    "plt.plot(X_0, Y_L, X_1, Y_L, X, Y)\n",
    "plt.plot(X_2, Y_L, marker = 'o')\n",
    "plt.xlabel(\"$x$\")\n",
    "plt.ylabel(\"$f(x)$\")\n",
    "plt.legend(['Limite inferior', 'Limite superior $t+1$', '$f(x)$', 'Limite superior $t$'])\n",
    "plt.annotate('Possível \\n raíz da $f(x)$', xy=(2.2, 1), xytext=(3.3, 1.5),\n",
    "            arrowprops=dict(facecolor='black', shrink=0.0),)\n",
    "plt.savefig('fig3.png', dpi=600)\n",
    "plt.show()"
   ]
  }
 ],
 "metadata": {
  "colab": {
   "collapsed_sections": [],
   "name": "MCOMP_Sec_2_2.ipynb",
   "provenance": []
  },
  "kernelspec": {
   "display_name": "Python 3",
   "language": "python",
   "name": "python3"
  },
  "language_info": {
   "codemirror_mode": {
    "name": "ipython",
    "version": 3
   },
   "file_extension": ".py",
   "mimetype": "text/x-python",
   "name": "python",
   "nbconvert_exporter": "python",
   "pygments_lexer": "ipython3",
   "version": "3.8.3"
  }
 },
 "nbformat": 4,
 "nbformat_minor": 1
}
