{
 "cells": [
  {
   "cell_type": "markdown",
   "metadata": {
    "id": "IvolgmwP0UYJ"
   },
   "source": [
    "# **1.0 IMPORTANTO AS BIBLIOTECAS**\n",
    "\n",
    "Se estiver utilizando o ambiente NBVIEWER não se esqueça de instalar as bibliotecas utilizadas. A linha de comando para instalação está apresentada logo abaixo. Salientamos que é necessário executar apenas uma única vez a instalação da biblioteca."
   ]
  },
  {
   "cell_type": "code",
   "execution_count": null,
   "metadata": {},
   "outputs": [],
   "source": [
    "# EXECUTAR ESTÁ CÉLULA UMA ÚNICA VEZ\n",
    "!pip install numpy\n",
    "!pip install matplotlib\n",
    "!pip install sympy"
   ]
  },
  {
   "cell_type": "code",
   "execution_count": null,
   "metadata": {
    "executionInfo": {
     "elapsed": 1036,
     "status": "ok",
     "timestamp": 1619460728774,
     "user": {
      "displayName": "WANDERLEI MALAQUIAS PEREIRA JUNIOR",
      "photoUrl": "https://lh3.googleusercontent.com/a-/AOh14GglFn2KGqmzmMwwLVTugRzApV8LBiqF4115lvfpdg=s64",
      "userId": "03728573811029083355"
     },
     "user_tz": 180
    },
    "id": "srWSq5yz0Rw4"
   },
   "outputs": [],
   "source": [
    "# IMPORTANDO BIBLIOTECAS\n",
    "import numpy as np\n",
    "import sympy as sp\n",
    "import matplotlib.pyplot as plt"
   ]
  },
  {
   "cell_type": "markdown",
   "metadata": {
    "id": "81W33LSp6eXf"
   },
   "source": [
    "# **2.0 OBTENDO DERIVADAS DE UMA FUNÇÃO**\n"
   ]
  },
  {
   "cell_type": "markdown",
   "metadata": {
    "id": "r3mDeVd_Tosq"
   },
   "source": [
    "Primeiramente vamos empregar o conceito de variável simbólica para que o Python possa entender que estamos trabalhando com um símbolo. Para esse exemplo definiremos $x$ como simbólico.\n",
    "\n",
    "_Observações:_\n",
    "- Veja que trocamos a biblioteca np por sp para que seja possível a operação simbólica;\n",
    "- Para um impressão \"bonita\" no console empregue o método ```init_printing()``` antes do processo.\n",
    "\n"
   ]
  },
  {
   "cell_type": "code",
   "execution_count": null,
   "metadata": {},
   "outputs": [],
   "source": [
    "sp.init_printing()\n",
    "X = sp.symbols(\"X\")\n",
    "F = 8 - 4.5 * (X - sp.sin(X))\n",
    "F"
   ]
  },
  {
   "cell_type": "code",
   "execution_count": null,
   "metadata": {},
   "outputs": [],
   "source": [
    "F_LINHA = sp.diff(F, X)\n",
    "F_LINHA"
   ]
  },
  {
   "cell_type": "markdown",
   "metadata": {
    "executionInfo": {
     "elapsed": 1347,
     "status": "ok",
     "timestamp": 1619460729088,
     "user": {
      "displayName": "WANDERLEI MALAQUIAS PEREIRA JUNIOR",
      "photoUrl": "https://lh3.googleusercontent.com/a-/AOh14GglFn2KGqmzmMwwLVTugRzApV8LBiqF4115lvfpdg=s64",
      "userId": "03728573811029083355"
     },
     "user_tz": 180
    },
    "id": "iQP14Yf2ThlK"
   },
   "source": [
    "Para avaliar qualquer ponto na função ou na sua derivada empregue a função ```subs()```. Veja uma aplicação."
   ]
  },
  {
   "cell_type": "code",
   "execution_count": null,
   "metadata": {
    "id": "fgxDMxFHTkLx"
   },
   "outputs": [],
   "source": [
    "F_0 = F.subs(X, 0)\n",
    "F_0"
   ]
  },
  {
   "cell_type": "markdown",
   "metadata": {},
   "source": [
    "Outra possibilidade é o emprego da  função ```Lambda(x, f(x))```. Veja uma aplicação empregando o método ```evalf()``` que neste caso empregamos para valiar o termo trigonométrico."
   ]
  },
  {
   "cell_type": "code",
   "execution_count": null,
   "metadata": {},
   "outputs": [],
   "source": [
    "F_X = sp.Lambda(X, 8 - 4.5 * (X - sp.sin(X)))\n",
    "VALOR = F_X(4).evalf()\n",
    "VALOR"
   ]
  },
  {
   "cell_type": "markdown",
   "metadata": {},
   "source": [
    "# **3.0 PROCESSO ITERATIVO DE NEWTON-RAPHSON**\n",
    "\n",
    "##  **3.1 Iteração $t=1$**\n"
   ]
  },
  {
   "cell_type": "code",
   "execution_count": null,
   "metadata": {
    "id": "qnopWKr10wa1"
   },
   "outputs": [],
   "source": [
    "def FUNCTION(X):\n",
    "    F = 8 - 4.5 * (X - np.sin(X))\n",
    "    F_LINHA = 4.5 * np.cos(X) - 4.5\n",
    "    return F, F_LINHA    \n",
    "\n",
    "# ITERAÇÃO t = 1, \"CHUTE INICIAL\" x = 1.50\n",
    "X_T0 = 1.50\n",
    "[F_XT0, F_LINHAXT0] = FUNCTION(X_T0)\n",
    "print('Valor de f(x): ', '%.2f' % F_XT0, '\\n', 'Valor de df(x)/dx: ', '%.2f' % F_LINHAXT0)\n",
    "X_T1 = X_T0 - F_XT0 / F_LINHAXT0\n",
    "print('Novo x: ', '%.2f' % X_T1)"
   ]
  },
  {
   "cell_type": "markdown",
   "metadata": {},
   "source": [
    "##  **3.2 Equação da reta tangente ao ponto $x_0$**\n",
    "\n",
    "$$m = \\frac{y - y_A}{x - x_A}$$\n",
    "\n",
    "Dada uma reta que passa pelo ponto $A(x_0, f(x_0))$ com coeficiente angular $f'(x_0)$.\n",
    "\n",
    "$$y - y_0 = f'(x_0).(x - x_0)$$"
   ]
  },
  {
   "cell_type": "code",
   "execution_count": null,
   "metadata": {},
   "outputs": [],
   "source": [
    "def TAGENT_FUNCTION(X, X_0, Y_0, F_LINHAX0):\n",
    "    F_TAN = F_LINHAX0 * (X - X_0) + Y_0\n",
    "    return F_TAN\n",
    "# CONSTRUÇÃO DOS PONTOS PARA PLOTAGEM DA RETA TANGENTE\n",
    "X = np.linspace(0, 4, 100)\n",
    "Y_LINHA = TAGENT_FUNCTION(X, X_T0, F_XT0, F_LINHAXT0)"
   ]
  },
  {
   "cell_type": "markdown",
   "metadata": {},
   "source": [
    "## **3.3 plotando o gráfico de $f(x)$ e a reta tangente**"
   ]
  },
  {
   "cell_type": "code",
   "execution_count": null,
   "metadata": {},
   "outputs": [],
   "source": [
    "# CONSTRUÇÃO DOS PONTOS PARA PLOTAGEM DA CURVA f(x)\n",
    "X = np.linspace(0, 4, 100)\n",
    "[Y, _] = FUNCTION(X)\n",
    "# PLOTANDO AS CURVAS\n",
    "plt.plot(X, Y, label = '$f(x)$')\n",
    "plt.plot(X, Y_LINHA, label = '$df(x)/dx$')\n",
    "plt.scatter(X_T0, F_XT0, color = '#4682B4')\n",
    "plt.scatter(X_T1, 0, color = '#FF00FF')\n",
    "plt.xlabel(\"$x$\")\n",
    "plt.ylabel(\"$f(x)$\")\n",
    "plt.legend()\n",
    "plt.annotate('$x_0$', xy=(X_T0+0.1, F_XT0), xytext=(X_T0+0.5, F_XT0),\n",
    "            arrowprops=dict(facecolor='#4682B4', edgecolor='#4682B4', shrink=0.0),)\n",
    "plt.annotate('$x_1$', xy=(X_T1+0.1, 0), xytext=(X_T1+0.5, 0),\n",
    "            arrowprops=dict(facecolor='#FF00FF', edgecolor='#FF00FF', shrink=0.0),)\n",
    "plt.savefig('fig1.svg', dpi = 600)\n",
    "plt.show()"
   ]
  },
  {
   "cell_type": "markdown",
   "metadata": {
    "id": "wmzxTaUNCHkJ"
   },
   "source": [
    "\n",
    "##  **3.4 Outras iterações e movimento gráfico**\n",
    "\n",
    "Aqui vamos visualiar a movimentação da reta tangente criando a aproximação do ponto onde se encontra a raíz."
   ]
  },
  {
   "cell_type": "code",
   "execution_count": null,
   "metadata": {
    "id": "sk1QJXFv6eA5"
   },
   "outputs": [],
   "source": [
    "# ITERAÇÃO t = 2, x = 2.87\n",
    "[F_XT1, F_LINHAXT1] = FUNCTION(X_T1)\n",
    "print('Valor de f(x): ', '%.2f' % F_XT1, '\\n', 'Valor de df(x)/dx: ', '%.2f' % F_LINHAXT1)\n",
    "X_T2 = X_T1 - F_XT1 / F_LINHAXT1\n",
    "print('Novo x: ', '%.2f' % X_T2)"
   ]
  },
  {
   "cell_type": "code",
   "execution_count": null,
   "metadata": {},
   "outputs": [],
   "source": [
    "# CONSTRUINDO AS CURVAS PARA VER GRAFICAMENTE A NOVA ITERAÇÃO\n",
    "[Y, _] = FUNCTION(X)\n",
    "Y_LINHA2 = TAGENT_FUNCTION(X, X_T1, F_XT1, F_LINHAXT1)\n",
    "# PLOTANDO AS CURVAS\n",
    "plt.plot(X, Y, label = '$f(x)$')\n",
    "plt.plot(X, Y_LINHA, label = '$df(x)/dx - It.=1$')\n",
    "plt.plot(X, Y_LINHA2, label = '$df(x)/dx - It.=2$')\n",
    "plt.scatter(X_T1, F_XT1, color = '#4682B4')\n",
    "plt.scatter(X_T2, 0, color = '#FF00FF')\n",
    "plt.xlabel(\"$x$\")\n",
    "plt.ylabel(\"$f(x)$\")\n",
    "plt.legend()\n",
    "plt.annotate('$x_1$', xy=(X_T1+0.1, F_XT1), xytext=(X_T1+0.5, F_XT1),\n",
    "            arrowprops=dict(facecolor='#4682B4', edgecolor='#4682B4', shrink=0.0),)\n",
    "plt.annotate('$x_2$', xy=(X_T2+0.1, 0), xytext=(X_T2+0.5, 0),\n",
    "            arrowprops=dict(facecolor='#FF00FF', edgecolor='#FF00FF', shrink=0.0),)\n",
    "plt.savefig('fig2.svg', dpi = 600)\n",
    "plt.show()"
   ]
  }
 ],
 "metadata": {
  "colab": {
   "collapsed_sections": [],
   "name": "MCOMP_Sec_2_2.ipynb",
   "provenance": []
  },
  "kernelspec": {
   "display_name": "Python 3",
   "language": "python",
   "name": "python3"
  },
  "language_info": {
   "codemirror_mode": {
    "name": "ipython",
    "version": 3
   },
   "file_extension": ".py",
   "mimetype": "text/x-python",
   "name": "python",
   "nbconvert_exporter": "python",
   "pygments_lexer": "ipython3",
   "version": "3.8.3"
  }
 },
 "nbformat": 4,
 "nbformat_minor": 1
}
